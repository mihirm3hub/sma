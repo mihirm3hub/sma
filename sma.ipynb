{
 "cells": [
  {
   "cell_type": "code",
   "execution_count": 22,
   "id": "86539059-27b9-45a3-abb8-cf4cb344349c",
   "metadata": {},
   "outputs": [
    {
     "name": "stdout",
     "output_type": "stream",
     "text": [
      "Requirement already satisfied: open3d in c:\\users\\mihir\\anaconda3\\lib\\site-packages (0.19.0)\n",
      "Requirement already satisfied: numpy in c:\\users\\mihir\\anaconda3\\lib\\site-packages (1.26.4)\n",
      "Requirement already satisfied: dash>=2.6.0 in c:\\users\\mihir\\anaconda3\\lib\\site-packages (from open3d) (3.1.1)\n",
      "Requirement already satisfied: werkzeug>=3.0.0 in c:\\users\\mihir\\anaconda3\\lib\\site-packages (from open3d) (3.0.3)\n",
      "Requirement already satisfied: flask>=3.0.0 in c:\\users\\mihir\\anaconda3\\lib\\site-packages (from open3d) (3.0.3)\n",
      "Requirement already satisfied: nbformat>=5.7.0 in c:\\users\\mihir\\anaconda3\\lib\\site-packages (from open3d) (5.10.4)\n",
      "Requirement already satisfied: configargparse in c:\\users\\mihir\\anaconda3\\lib\\site-packages (from open3d) (1.7.1)\n",
      "Requirement already satisfied: ipywidgets>=8.0.4 in c:\\users\\mihir\\anaconda3\\lib\\site-packages (from open3d) (8.1.7)\n",
      "Requirement already satisfied: plotly>=5.0.0 in c:\\users\\mihir\\anaconda3\\lib\\site-packages (from dash>=2.6.0->open3d) (5.24.1)\n",
      "Requirement already satisfied: importlib-metadata in c:\\users\\mihir\\anaconda3\\lib\\site-packages (from dash>=2.6.0->open3d) (7.0.1)\n",
      "Requirement already satisfied: typing-extensions>=4.1.1 in c:\\users\\mihir\\anaconda3\\lib\\site-packages (from dash>=2.6.0->open3d) (4.11.0)\n",
      "Requirement already satisfied: requests in c:\\users\\mihir\\anaconda3\\lib\\site-packages (from dash>=2.6.0->open3d) (2.32.3)\n",
      "Requirement already satisfied: retrying in c:\\users\\mihir\\anaconda3\\lib\\site-packages (from dash>=2.6.0->open3d) (1.4.0)\n",
      "Requirement already satisfied: nest-asyncio in c:\\users\\mihir\\anaconda3\\lib\\site-packages (from dash>=2.6.0->open3d) (1.6.0)\n",
      "Requirement already satisfied: setuptools in c:\\users\\mihir\\anaconda3\\lib\\site-packages (from dash>=2.6.0->open3d) (75.1.0)\n",
      "Requirement already satisfied: Jinja2>=3.1.2 in c:\\users\\mihir\\anaconda3\\lib\\site-packages (from flask>=3.0.0->open3d) (3.1.4)\n",
      "Requirement already satisfied: itsdangerous>=2.1.2 in c:\\users\\mihir\\anaconda3\\lib\\site-packages (from flask>=3.0.0->open3d) (2.2.0)\n",
      "Requirement already satisfied: click>=8.1.3 in c:\\users\\mihir\\anaconda3\\lib\\site-packages (from flask>=3.0.0->open3d) (8.1.7)\n",
      "Requirement already satisfied: blinker>=1.6.2 in c:\\users\\mihir\\anaconda3\\lib\\site-packages (from flask>=3.0.0->open3d) (1.6.2)\n",
      "Requirement already satisfied: comm>=0.1.3 in c:\\users\\mihir\\anaconda3\\lib\\site-packages (from ipywidgets>=8.0.4->open3d) (0.2.1)\n",
      "Requirement already satisfied: ipython>=6.1.0 in c:\\users\\mihir\\anaconda3\\lib\\site-packages (from ipywidgets>=8.0.4->open3d) (8.27.0)\n",
      "Requirement already satisfied: traitlets>=4.3.1 in c:\\users\\mihir\\anaconda3\\lib\\site-packages (from ipywidgets>=8.0.4->open3d) (5.14.3)\n",
      "Requirement already satisfied: widgetsnbextension~=4.0.14 in c:\\users\\mihir\\anaconda3\\lib\\site-packages (from ipywidgets>=8.0.4->open3d) (4.0.14)\n",
      "Requirement already satisfied: jupyterlab_widgets~=3.0.15 in c:\\users\\mihir\\anaconda3\\lib\\site-packages (from ipywidgets>=8.0.4->open3d) (3.0.15)\n",
      "Requirement already satisfied: fastjsonschema>=2.15 in c:\\users\\mihir\\anaconda3\\lib\\site-packages (from nbformat>=5.7.0->open3d) (2.16.2)\n",
      "Requirement already satisfied: jsonschema>=2.6 in c:\\users\\mihir\\anaconda3\\lib\\site-packages (from nbformat>=5.7.0->open3d) (4.23.0)\n",
      "Requirement already satisfied: jupyter-core!=5.0.*,>=4.12 in c:\\users\\mihir\\anaconda3\\lib\\site-packages (from nbformat>=5.7.0->open3d) (5.7.2)\n",
      "Requirement already satisfied: MarkupSafe>=2.1.1 in c:\\users\\mihir\\anaconda3\\lib\\site-packages (from werkzeug>=3.0.0->open3d) (2.1.3)\n",
      "Requirement already satisfied: colorama in c:\\users\\mihir\\anaconda3\\lib\\site-packages (from click>=8.1.3->flask>=3.0.0->open3d) (0.4.6)\n",
      "Requirement already satisfied: decorator in c:\\users\\mihir\\anaconda3\\lib\\site-packages (from ipython>=6.1.0->ipywidgets>=8.0.4->open3d) (5.1.1)\n",
      "Requirement already satisfied: jedi>=0.16 in c:\\users\\mihir\\anaconda3\\lib\\site-packages (from ipython>=6.1.0->ipywidgets>=8.0.4->open3d) (0.19.1)\n",
      "Requirement already satisfied: matplotlib-inline in c:\\users\\mihir\\anaconda3\\lib\\site-packages (from ipython>=6.1.0->ipywidgets>=8.0.4->open3d) (0.1.6)\n",
      "Requirement already satisfied: prompt-toolkit<3.1.0,>=3.0.41 in c:\\users\\mihir\\anaconda3\\lib\\site-packages (from ipython>=6.1.0->ipywidgets>=8.0.4->open3d) (3.0.43)\n",
      "Requirement already satisfied: pygments>=2.4.0 in c:\\users\\mihir\\anaconda3\\lib\\site-packages (from ipython>=6.1.0->ipywidgets>=8.0.4->open3d) (2.15.1)\n",
      "Requirement already satisfied: stack-data in c:\\users\\mihir\\anaconda3\\lib\\site-packages (from ipython>=6.1.0->ipywidgets>=8.0.4->open3d) (0.2.0)\n",
      "Requirement already satisfied: attrs>=22.2.0 in c:\\users\\mihir\\anaconda3\\lib\\site-packages (from jsonschema>=2.6->nbformat>=5.7.0->open3d) (23.1.0)\n",
      "Requirement already satisfied: jsonschema-specifications>=2023.03.6 in c:\\users\\mihir\\anaconda3\\lib\\site-packages (from jsonschema>=2.6->nbformat>=5.7.0->open3d) (2023.7.1)\n",
      "Requirement already satisfied: referencing>=0.28.4 in c:\\users\\mihir\\anaconda3\\lib\\site-packages (from jsonschema>=2.6->nbformat>=5.7.0->open3d) (0.30.2)\n",
      "Requirement already satisfied: rpds-py>=0.7.1 in c:\\users\\mihir\\anaconda3\\lib\\site-packages (from jsonschema>=2.6->nbformat>=5.7.0->open3d) (0.10.6)\n",
      "Requirement already satisfied: platformdirs>=2.5 in c:\\users\\mihir\\anaconda3\\lib\\site-packages (from jupyter-core!=5.0.*,>=4.12->nbformat>=5.7.0->open3d) (3.10.0)\n",
      "Requirement already satisfied: pywin32>=300 in c:\\users\\mihir\\anaconda3\\lib\\site-packages (from jupyter-core!=5.0.*,>=4.12->nbformat>=5.7.0->open3d) (305.1)\n",
      "Requirement already satisfied: tenacity>=6.2.0 in c:\\users\\mihir\\anaconda3\\lib\\site-packages (from plotly>=5.0.0->dash>=2.6.0->open3d) (8.2.3)\n",
      "Requirement already satisfied: packaging in c:\\users\\mihir\\anaconda3\\lib\\site-packages (from plotly>=5.0.0->dash>=2.6.0->open3d) (24.1)\n",
      "Requirement already satisfied: zipp>=0.5 in c:\\users\\mihir\\anaconda3\\lib\\site-packages (from importlib-metadata->dash>=2.6.0->open3d) (3.17.0)\n",
      "Requirement already satisfied: charset-normalizer<4,>=2 in c:\\users\\mihir\\anaconda3\\lib\\site-packages (from requests->dash>=2.6.0->open3d) (3.3.2)\n",
      "Requirement already satisfied: idna<4,>=2.5 in c:\\users\\mihir\\anaconda3\\lib\\site-packages (from requests->dash>=2.6.0->open3d) (3.7)\n",
      "Requirement already satisfied: urllib3<3,>=1.21.1 in c:\\users\\mihir\\anaconda3\\lib\\site-packages (from requests->dash>=2.6.0->open3d) (2.2.3)\n",
      "Requirement already satisfied: certifi>=2017.4.17 in c:\\users\\mihir\\anaconda3\\lib\\site-packages (from requests->dash>=2.6.0->open3d) (2024.8.30)\n",
      "Requirement already satisfied: parso<0.9.0,>=0.8.3 in c:\\users\\mihir\\anaconda3\\lib\\site-packages (from jedi>=0.16->ipython>=6.1.0->ipywidgets>=8.0.4->open3d) (0.8.3)\n",
      "Requirement already satisfied: wcwidth in c:\\users\\mihir\\anaconda3\\lib\\site-packages (from prompt-toolkit<3.1.0,>=3.0.41->ipython>=6.1.0->ipywidgets>=8.0.4->open3d) (0.2.5)\n",
      "Requirement already satisfied: executing in c:\\users\\mihir\\anaconda3\\lib\\site-packages (from stack-data->ipython>=6.1.0->ipywidgets>=8.0.4->open3d) (0.8.3)\n",
      "Requirement already satisfied: asttokens in c:\\users\\mihir\\anaconda3\\lib\\site-packages (from stack-data->ipython>=6.1.0->ipywidgets>=8.0.4->open3d) (2.0.5)\n",
      "Requirement already satisfied: pure-eval in c:\\users\\mihir\\anaconda3\\lib\\site-packages (from stack-data->ipython>=6.1.0->ipywidgets>=8.0.4->open3d) (0.2.2)\n",
      "Requirement already satisfied: six in c:\\users\\mihir\\anaconda3\\lib\\site-packages (from asttokens->stack-data->ipython>=6.1.0->ipywidgets>=8.0.4->open3d) (1.16.0)\n",
      "Note: you may need to restart the kernel to use updated packages.\n"
     ]
    }
   ],
   "source": [
    "pip install open3d numpy\n"
   ]
  },
  {
   "cell_type": "code",
   "execution_count": 23,
   "id": "71632e6c-abc4-41cd-bef3-e88eb5b7ca7f",
   "metadata": {},
   "outputs": [
    {
     "name": "stdout",
     "output_type": "stream",
     "text": [
      "Simulating visibility from each viewpoint:\n"
     ]
    },
    {
     "name": "stderr",
     "output_type": "stream",
     "text": [
      "100%|█████████████████████████████████████████████████████████████████████████████████| 32/32 [00:00<00:00, 119.29it/s]"
     ]
    },
    {
     "name": "stdout",
     "output_type": "stream",
     "text": [
      "\n",
      "Total surface points: 5000\n",
      "View 0: sees 2159 points\n",
      "View 1: sees 2099 points\n",
      "View 2: sees 2090 points\n",
      "View 3: sees 2042 points\n",
      "View 4: sees 2078 points\n",
      "View 5: sees 2092 points\n",
      "View 6: sees 2012 points\n",
      "View 7: sees 2089 points\n",
      "View 8: sees 2079 points\n",
      "View 9: sees 2055 points\n",
      "View 10: sees 2096 points\n",
      "View 11: sees 2011 points\n",
      "View 12: sees 2064 points\n",
      "View 13: sees 2084 points\n",
      "View 14: sees 1992 points\n",
      "View 15: sees 2107 points\n",
      "View 16: sees 2041 points\n",
      "View 17: sees 2022 points\n",
      "View 18: sees 2094 points\n",
      "View 19: sees 2011 points\n",
      "View 20: sees 2065 points\n",
      "View 21: sees 2058 points\n",
      "View 22: sees 2007 points\n",
      "View 23: sees 2087 points\n",
      "View 24: sees 2032 points\n",
      "View 25: sees 2068 points\n",
      "View 26: sees 2052 points\n",
      "View 27: sees 1995 points\n",
      "View 28: sees 2081 points\n",
      "View 29: sees 2018 points\n",
      "View 30: sees 2059 points\n",
      "View 31: sees 2091 points\n"
     ]
    },
    {
     "name": "stderr",
     "output_type": "stream",
     "text": [
      "\n"
     ]
    }
   ],
   "source": [
    "import open3d as o3d\n",
    "import numpy as np\n",
    "from tqdm import tqdm\n",
    "\n",
    "# Step 1: Load & normalize mesh\n",
    "mesh = o3d.geometry.TriangleMesh.create_sphere(radius=1.0)\n",
    "mesh.compute_vertex_normals()\n",
    "\n",
    "# Normalize: center and scale\n",
    "center = mesh.get_center()\n",
    "mesh.translate(-center)\n",
    "bbox = mesh.get_axis_aligned_bounding_box()\n",
    "scale = 1.0 / max(bbox.get_extent())\n",
    "mesh.scale(scale, center=(0, 0, 0))\n",
    "\n",
    "# Step 2: Sample 8 candidate viewpoints on a sphere\n",
    "def fibonacci_sphere(samples=32, radius=2.5):\n",
    "    points = []\n",
    "    phi = np.pi * (3. - np.sqrt(5.))  # golden angle\n",
    "    for i in range(samples):\n",
    "        y = 1 - (i / float(samples - 1)) * 2\n",
    "        r = np.sqrt(1 - y * y)\n",
    "        theta = phi * i\n",
    "        x = np.cos(theta) * r\n",
    "        z = np.sin(theta) * r\n",
    "        points.append([x * radius, y * radius, z * radius])\n",
    "    return np.array(points)\n",
    "\n",
    "candidate_views = fibonacci_sphere()\n",
    "\n",
    "# Step 3: Sample mesh as point cloud (surface points)\n",
    "pcd = mesh.sample_points_uniformly(number_of_points=5000)\n",
    "\n",
    "# Step 4: Simulate visibility per viewpoint with progress bar\n",
    "view_coverage = []\n",
    "print(\"Simulating visibility from each viewpoint:\")\n",
    "for i, view in tqdm(enumerate(candidate_views), total=len(candidate_views)):\n",
    "    _, pt_map = pcd.hidden_point_removal(view, radius=5.0)\n",
    "    view_coverage.append(set(pt_map))\n",
    "\n",
    "# Step 5: Print stats\n",
    "total_points = set(range(len(pcd.points)))\n",
    "print(f\"\\nTotal surface points: {len(total_points)}\")\n",
    "for i, indices in enumerate(view_coverage):\n",
    "    print(f\"View {i}: sees {len(indices)} points\")\n"
   ]
  },
  {
   "cell_type": "code",
   "execution_count": 24,
   "id": "3009ca3b-c65a-4239-8011-3d7331e2fefe",
   "metadata": {},
   "outputs": [
    {
     "name": "stdout",
     "output_type": "stream",
     "text": [
      "Requirement already satisfied: mealpy in c:\\users\\mihir\\anaconda3\\lib\\site-packages (3.0.2)\n",
      "Requirement already satisfied: numpy>=1.17.5 in c:\\users\\mihir\\anaconda3\\lib\\site-packages (from mealpy) (1.26.4)\n",
      "Requirement already satisfied: matplotlib>=3.3.0 in c:\\users\\mihir\\anaconda3\\lib\\site-packages (from mealpy) (3.9.2)\n",
      "Requirement already satisfied: scipy>=1.7.1 in c:\\users\\mihir\\anaconda3\\lib\\site-packages (from mealpy) (1.13.1)\n",
      "Requirement already satisfied: pandas>=1.2.0 in c:\\users\\mihir\\anaconda3\\lib\\site-packages (from mealpy) (2.2.2)\n",
      "Requirement already satisfied: opfunu>=1.0.0 in c:\\users\\mihir\\anaconda3\\lib\\site-packages (from mealpy) (1.0.1)\n",
      "Requirement already satisfied: contourpy>=1.0.1 in c:\\users\\mihir\\anaconda3\\lib\\site-packages (from matplotlib>=3.3.0->mealpy) (1.2.0)\n",
      "Requirement already satisfied: cycler>=0.10 in c:\\users\\mihir\\anaconda3\\lib\\site-packages (from matplotlib>=3.3.0->mealpy) (0.11.0)\n",
      "Requirement already satisfied: fonttools>=4.22.0 in c:\\users\\mihir\\anaconda3\\lib\\site-packages (from matplotlib>=3.3.0->mealpy) (4.51.0)\n",
      "Requirement already satisfied: kiwisolver>=1.3.1 in c:\\users\\mihir\\anaconda3\\lib\\site-packages (from matplotlib>=3.3.0->mealpy) (1.4.4)\n",
      "Requirement already satisfied: packaging>=20.0 in c:\\users\\mihir\\anaconda3\\lib\\site-packages (from matplotlib>=3.3.0->mealpy) (24.1)\n",
      "Requirement already satisfied: pillow>=8 in c:\\users\\mihir\\anaconda3\\lib\\site-packages (from matplotlib>=3.3.0->mealpy) (10.4.0)\n",
      "Requirement already satisfied: pyparsing>=2.3.1 in c:\\users\\mihir\\anaconda3\\lib\\site-packages (from matplotlib>=3.3.0->mealpy) (3.1.2)\n",
      "Requirement already satisfied: python-dateutil>=2.7 in c:\\users\\mihir\\anaconda3\\lib\\site-packages (from matplotlib>=3.3.0->mealpy) (2.9.0.post0)\n",
      "Requirement already satisfied: requests>=2.27.0 in c:\\users\\mihir\\anaconda3\\lib\\site-packages (from opfunu>=1.0.0->mealpy) (2.32.3)\n",
      "Requirement already satisfied: pytz>=2020.1 in c:\\users\\mihir\\anaconda3\\lib\\site-packages (from pandas>=1.2.0->mealpy) (2024.1)\n",
      "Requirement already satisfied: tzdata>=2022.7 in c:\\users\\mihir\\anaconda3\\lib\\site-packages (from pandas>=1.2.0->mealpy) (2023.3)\n",
      "Requirement already satisfied: six>=1.5 in c:\\users\\mihir\\anaconda3\\lib\\site-packages (from python-dateutil>=2.7->matplotlib>=3.3.0->mealpy) (1.16.0)\n",
      "Requirement already satisfied: charset-normalizer<4,>=2 in c:\\users\\mihir\\anaconda3\\lib\\site-packages (from requests>=2.27.0->opfunu>=1.0.0->mealpy) (3.3.2)\n",
      "Requirement already satisfied: idna<4,>=2.5 in c:\\users\\mihir\\anaconda3\\lib\\site-packages (from requests>=2.27.0->opfunu>=1.0.0->mealpy) (3.7)\n",
      "Requirement already satisfied: urllib3<3,>=1.21.1 in c:\\users\\mihir\\anaconda3\\lib\\site-packages (from requests>=2.27.0->opfunu>=1.0.0->mealpy) (2.2.3)\n",
      "Requirement already satisfied: certifi>=2017.4.17 in c:\\users\\mihir\\anaconda3\\lib\\site-packages (from requests>=2.27.0->opfunu>=1.0.0->mealpy) (2024.8.30)\n"
     ]
    }
   ],
   "source": [
    "!pip install mealpy\n"
   ]
  },
  {
   "cell_type": "code",
   "execution_count": 25,
   "id": "8dd439bf-7393-4c7b-9c75-85c0e22c7dd4",
   "metadata": {},
   "outputs": [
    {
     "name": "stderr",
     "output_type": "stream",
     "text": [
      "2025/07/14 08:34:36 PM, INFO, mealpy.bio_based.SMA.OriginalSMA: OriginalSMA(epoch=50, pop_size=20, p_t=0.03)\n",
      "2025/07/14 08:34:36 PM, INFO, mealpy.bio_based.SMA.OriginalSMA: >>>Problem: P, Epoch: 1, Current best: 0.0, Global best: 0.0, Runtime: 0.03472 seconds\n",
      "2025/07/14 08:34:36 PM, INFO, mealpy.bio_based.SMA.OriginalSMA: >>>Problem: P, Epoch: 2, Current best: 0.0, Global best: 0.0, Runtime: 0.02368 seconds\n",
      "2025/07/14 08:34:36 PM, INFO, mealpy.bio_based.SMA.OriginalSMA: >>>Problem: P, Epoch: 3, Current best: 0.0, Global best: 0.0, Runtime: 0.02583 seconds\n",
      "2025/07/14 08:34:36 PM, INFO, mealpy.bio_based.SMA.OriginalSMA: >>>Problem: P, Epoch: 4, Current best: 0.0, Global best: 0.0, Runtime: 0.02169 seconds\n",
      "2025/07/14 08:34:36 PM, INFO, mealpy.bio_based.SMA.OriginalSMA: >>>Problem: P, Epoch: 5, Current best: 0.0, Global best: 0.0, Runtime: 0.02162 seconds\n",
      "2025/07/14 08:34:36 PM, INFO, mealpy.bio_based.SMA.OriginalSMA: >>>Problem: P, Epoch: 6, Current best: 0.0, Global best: 0.0, Runtime: 0.02408 seconds\n",
      "2025/07/14 08:34:36 PM, INFO, mealpy.bio_based.SMA.OriginalSMA: >>>Problem: P, Epoch: 7, Current best: 0.0, Global best: 0.0, Runtime: 0.02285 seconds\n",
      "2025/07/14 08:34:36 PM, INFO, mealpy.bio_based.SMA.OriginalSMA: >>>Problem: P, Epoch: 8, Current best: 0.0, Global best: 0.0, Runtime: 0.02740 seconds\n",
      "2025/07/14 08:34:36 PM, INFO, mealpy.bio_based.SMA.OriginalSMA: >>>Problem: P, Epoch: 9, Current best: 0.0, Global best: 0.0, Runtime: 0.02271 seconds\n",
      "2025/07/14 08:34:36 PM, INFO, mealpy.bio_based.SMA.OriginalSMA: >>>Problem: P, Epoch: 10, Current best: 0.0, Global best: 0.0, Runtime: 0.02869 seconds\n",
      "2025/07/14 08:34:36 PM, INFO, mealpy.bio_based.SMA.OriginalSMA: >>>Problem: P, Epoch: 11, Current best: 0.0, Global best: 0.0, Runtime: 0.02614 seconds\n",
      "2025/07/14 08:34:36 PM, INFO, mealpy.bio_based.SMA.OriginalSMA: >>>Problem: P, Epoch: 12, Current best: 0.0, Global best: 0.0, Runtime: 0.02310 seconds\n",
      "2025/07/14 08:34:36 PM, INFO, mealpy.bio_based.SMA.OriginalSMA: >>>Problem: P, Epoch: 13, Current best: 0.0, Global best: 0.0, Runtime: 0.02569 seconds\n",
      "2025/07/14 08:34:36 PM, INFO, mealpy.bio_based.SMA.OriginalSMA: >>>Problem: P, Epoch: 14, Current best: 0.0, Global best: 0.0, Runtime: 0.02921 seconds\n",
      "2025/07/14 08:34:36 PM, INFO, mealpy.bio_based.SMA.OriginalSMA: >>>Problem: P, Epoch: 15, Current best: 0.0, Global best: 0.0, Runtime: 0.02317 seconds\n",
      "2025/07/14 08:34:36 PM, INFO, mealpy.bio_based.SMA.OriginalSMA: >>>Problem: P, Epoch: 16, Current best: 0.0, Global best: 0.0, Runtime: 0.02187 seconds\n",
      "2025/07/14 08:34:36 PM, INFO, mealpy.bio_based.SMA.OriginalSMA: >>>Problem: P, Epoch: 17, Current best: 0.0, Global best: 0.0, Runtime: 0.02311 seconds\n",
      "2025/07/14 08:34:36 PM, INFO, mealpy.bio_based.SMA.OriginalSMA: >>>Problem: P, Epoch: 18, Current best: 0.0, Global best: 0.0, Runtime: 0.02032 seconds\n",
      "2025/07/14 08:34:36 PM, INFO, mealpy.bio_based.SMA.OriginalSMA: >>>Problem: P, Epoch: 19, Current best: 0.0, Global best: 0.0, Runtime: 0.02059 seconds\n",
      "2025/07/14 08:34:36 PM, INFO, mealpy.bio_based.SMA.OriginalSMA: >>>Problem: P, Epoch: 20, Current best: 0.0, Global best: 0.0, Runtime: 0.02676 seconds\n",
      "2025/07/14 08:34:36 PM, INFO, mealpy.bio_based.SMA.OriginalSMA: >>>Problem: P, Epoch: 21, Current best: 0.0, Global best: 0.0, Runtime: 0.02528 seconds\n",
      "2025/07/14 08:34:36 PM, INFO, mealpy.bio_based.SMA.OriginalSMA: >>>Problem: P, Epoch: 22, Current best: 0.0, Global best: 0.0, Runtime: 0.02255 seconds\n",
      "2025/07/14 08:34:36 PM, INFO, mealpy.bio_based.SMA.OriginalSMA: >>>Problem: P, Epoch: 23, Current best: 0.0, Global best: 0.0, Runtime: 0.02648 seconds\n",
      "2025/07/14 08:34:36 PM, INFO, mealpy.bio_based.SMA.OriginalSMA: >>>Problem: P, Epoch: 24, Current best: 0.0, Global best: 0.0, Runtime: 0.02220 seconds\n",
      "2025/07/14 08:34:36 PM, INFO, mealpy.bio_based.SMA.OriginalSMA: >>>Problem: P, Epoch: 25, Current best: 0.0, Global best: 0.0, Runtime: 0.02408 seconds\n",
      "2025/07/14 08:34:36 PM, INFO, mealpy.bio_based.SMA.OriginalSMA: >>>Problem: P, Epoch: 26, Current best: 0.0, Global best: 0.0, Runtime: 0.02155 seconds\n",
      "2025/07/14 08:34:36 PM, INFO, mealpy.bio_based.SMA.OriginalSMA: >>>Problem: P, Epoch: 27, Current best: 0.0, Global best: 0.0, Runtime: 0.02428 seconds\n",
      "2025/07/14 08:34:36 PM, INFO, mealpy.bio_based.SMA.OriginalSMA: >>>Problem: P, Epoch: 28, Current best: 0.0, Global best: 0.0, Runtime: 0.02233 seconds\n",
      "2025/07/14 08:34:36 PM, INFO, mealpy.bio_based.SMA.OriginalSMA: >>>Problem: P, Epoch: 29, Current best: 0.0, Global best: 0.0, Runtime: 0.02412 seconds\n",
      "2025/07/14 08:34:37 PM, INFO, mealpy.bio_based.SMA.OriginalSMA: >>>Problem: P, Epoch: 30, Current best: 0.0, Global best: 0.0, Runtime: 0.02235 seconds\n",
      "2025/07/14 08:34:37 PM, INFO, mealpy.bio_based.SMA.OriginalSMA: >>>Problem: P, Epoch: 31, Current best: 0.0, Global best: 0.0, Runtime: 0.02382 seconds\n",
      "2025/07/14 08:34:37 PM, INFO, mealpy.bio_based.SMA.OriginalSMA: >>>Problem: P, Epoch: 32, Current best: 0.0, Global best: 0.0, Runtime: 0.02011 seconds\n",
      "2025/07/14 08:34:37 PM, INFO, mealpy.bio_based.SMA.OriginalSMA: >>>Problem: P, Epoch: 33, Current best: 0.0, Global best: 0.0, Runtime: 0.02999 seconds\n",
      "2025/07/14 08:34:37 PM, INFO, mealpy.bio_based.SMA.OriginalSMA: >>>Problem: P, Epoch: 34, Current best: 0.0, Global best: 0.0, Runtime: 0.03118 seconds\n",
      "2025/07/14 08:34:37 PM, INFO, mealpy.bio_based.SMA.OriginalSMA: >>>Problem: P, Epoch: 35, Current best: 0.0, Global best: 0.0, Runtime: 0.02378 seconds\n",
      "2025/07/14 08:34:37 PM, INFO, mealpy.bio_based.SMA.OriginalSMA: >>>Problem: P, Epoch: 36, Current best: 0.0, Global best: 0.0, Runtime: 0.02239 seconds\n",
      "2025/07/14 08:34:37 PM, INFO, mealpy.bio_based.SMA.OriginalSMA: >>>Problem: P, Epoch: 37, Current best: 0.0, Global best: 0.0, Runtime: 0.02262 seconds\n",
      "2025/07/14 08:34:37 PM, INFO, mealpy.bio_based.SMA.OriginalSMA: >>>Problem: P, Epoch: 38, Current best: 0.0, Global best: 0.0, Runtime: 0.01698 seconds\n",
      "2025/07/14 08:34:37 PM, INFO, mealpy.bio_based.SMA.OriginalSMA: >>>Problem: P, Epoch: 39, Current best: 0.0, Global best: 0.0, Runtime: 0.02892 seconds\n",
      "2025/07/14 08:34:37 PM, INFO, mealpy.bio_based.SMA.OriginalSMA: >>>Problem: P, Epoch: 40, Current best: 0.0, Global best: 0.0, Runtime: 0.01854 seconds\n",
      "2025/07/14 08:34:37 PM, INFO, mealpy.bio_based.SMA.OriginalSMA: >>>Problem: P, Epoch: 41, Current best: 0.0, Global best: 0.0, Runtime: 0.02278 seconds\n",
      "2025/07/14 08:34:37 PM, INFO, mealpy.bio_based.SMA.OriginalSMA: >>>Problem: P, Epoch: 42, Current best: 0.0, Global best: 0.0, Runtime: 0.02001 seconds\n",
      "2025/07/14 08:34:37 PM, INFO, mealpy.bio_based.SMA.OriginalSMA: >>>Problem: P, Epoch: 43, Current best: 0.0, Global best: 0.0, Runtime: 0.02186 seconds\n",
      "2025/07/14 08:34:37 PM, INFO, mealpy.bio_based.SMA.OriginalSMA: >>>Problem: P, Epoch: 44, Current best: 0.0, Global best: 0.0, Runtime: 0.02071 seconds\n",
      "2025/07/14 08:34:37 PM, INFO, mealpy.bio_based.SMA.OriginalSMA: >>>Problem: P, Epoch: 45, Current best: 0.0, Global best: 0.0, Runtime: 0.02384 seconds\n",
      "2025/07/14 08:34:37 PM, INFO, mealpy.bio_based.SMA.OriginalSMA: >>>Problem: P, Epoch: 46, Current best: 0.0, Global best: 0.0, Runtime: 0.02175 seconds\n",
      "2025/07/14 08:34:37 PM, INFO, mealpy.bio_based.SMA.OriginalSMA: >>>Problem: P, Epoch: 47, Current best: 0.0, Global best: 0.0, Runtime: 0.02097 seconds\n",
      "2025/07/14 08:34:37 PM, INFO, mealpy.bio_based.SMA.OriginalSMA: >>>Problem: P, Epoch: 48, Current best: 0.0, Global best: 0.0, Runtime: 0.02036 seconds\n",
      "2025/07/14 08:34:37 PM, INFO, mealpy.bio_based.SMA.OriginalSMA: >>>Problem: P, Epoch: 49, Current best: 0.0, Global best: 0.0, Runtime: 0.02104 seconds\n",
      "2025/07/14 08:34:37 PM, INFO, mealpy.bio_based.SMA.OriginalSMA: >>>Problem: P, Epoch: 50, Current best: 0.0, Global best: 0.0, Runtime: 0.01939 seconds\n"
     ]
    },
    {
     "name": "stdout",
     "output_type": "stream",
     "text": [
      "\n",
      "📌 Selected viewpoints: [3, 5, 7, 15, 16, 19, 21, 24, 27]\n",
      "✅ Coverage: 100.00%\n",
      "❌ Uncovered points: 0.0\n"
     ]
    }
   ],
   "source": [
    "import numpy as np\n",
    "from mealpy import FloatVar, SMA\n",
    "\n",
    "# --- Configurations ---\n",
    "num_views_to_select = 10\n",
    "num_candidates = len(view_coverage)\n",
    "total_points = set(range(len(pcd.points)))\n",
    "\n",
    "# --- Fitness Function (minimize uncovered surface points) ---\n",
    "def objective_function(solution):\n",
    "    indices = [int(round(x)) % num_candidates for x in solution]\n",
    "    indices = list(set(indices))  # Remove duplicates\n",
    "    covered = set()\n",
    "    for i in indices:\n",
    "        covered |= view_coverage[i]\n",
    "    uncovered = len(total_points - covered)\n",
    "    return uncovered  # Return scalar\n",
    "\n",
    "# --- Define problem_dict with FloatVar ---\n",
    "problem_dict = {\n",
    "    \"obj_func\": objective_function,\n",
    "    \"minmax\": \"min\",\n",
    "    \"bounds\": FloatVar(\n",
    "        lb=(0,) * num_views_to_select,\n",
    "        ub=(num_candidates - 1,) * num_views_to_select,\n",
    "        name=\"view_index\"\n",
    "    )\n",
    "}\n",
    "\n",
    "# --- Run SMA ---\n",
    "model = SMA.OriginalSMA(epoch=50, pop_size=20, p_t=0.03)\n",
    "g_best = model.solve(problem_dict)\n",
    "\n",
    "# --- Evaluate selected views ---\n",
    "selected_indices = sorted(set(int(round(x)) % num_candidates for x in g_best.solution))\n",
    "covered = set()\n",
    "for i in selected_indices:\n",
    "    covered |= view_coverage[i]\n",
    "coverage_percent = (len(covered) / len(total_points)) * 100\n",
    "\n",
    "# --- Print Results ---\n",
    "print(f\"\\n📌 Selected viewpoints: {selected_indices}\")\n",
    "print(f\"✅ Coverage: {coverage_percent:.2f}%\")\n",
    "print(f\"❌ Uncovered points: {g_best.target.fitness}\")\n"
   ]
  },
  {
   "cell_type": "code",
   "execution_count": 26,
   "id": "1019fb7e-c9da-4dc8-829d-818eba7af21b",
   "metadata": {},
   "outputs": [],
   "source": [
    "import open3d as o3d\n",
    "\n",
    "# Ensure mesh is not modified in place\n",
    "mesh_vis = mesh.translate((0, 0, 0), relative=False)\n",
    "\n",
    "# Create viewpoint spheres\n",
    "spheres = []\n",
    "for i, pos in enumerate(candidate_views):\n",
    "    sphere = o3d.geometry.TriangleMesh.create_sphere(radius=0.05)\n",
    "    sphere.translate(pos)\n",
    "    if i in selected_indices:\n",
    "        sphere.paint_uniform_color([1.0, 0.0, 0.0])  # 🔴 Red = selected\n",
    "    else:\n",
    "        sphere.paint_uniform_color([0.7, 0.7, 0.7])  # ⚪ Light gray = unselected\n",
    "    spheres.append(sphere)\n",
    "\n",
    "# Visualize\n",
    "o3d.visualization.draw_geometries([mesh_vis] + spheres)\n"
   ]
  },
  {
   "cell_type": "code",
   "execution_count": 27,
   "id": "8460f7b8-4292-43ef-ad75-735c49cf46c3",
   "metadata": {},
   "outputs": [
    {
     "name": "stdout",
     "output_type": "stream",
     "text": [
      "📥 Downloading ModelNet40.zip...\n"
     ]
    },
    {
     "name": "stderr",
     "output_type": "stream",
     "text": [
      "ModelNet40.zip: 2.04GB [07:34, 4.48MB/s]                                                                               \n"
     ]
    },
    {
     "name": "stdout",
     "output_type": "stream",
     "text": [
      "📦 Extracting ModelNet40.zip...\n"
     ]
    },
    {
     "name": "stderr",
     "output_type": "stream",
     "text": [
      "Extracting: 100%|████████████████████████████████████████████████████████████| 12432/12432 [00:40<00:00, 303.34files/s]"
     ]
    },
    {
     "name": "stdout",
     "output_type": "stream",
     "text": [
      "✅ Done! Files extracted to: ModelNet40\n"
     ]
    },
    {
     "name": "stderr",
     "output_type": "stream",
     "text": [
      "\n"
     ]
    }
   ],
   "source": [
    "import urllib.request\n",
    "import zipfile\n",
    "import os\n",
    "from tqdm import tqdm\n",
    "\n",
    "# URL and target paths\n",
    "url = \"https://modelnet.cs.princeton.edu/ModelNet40.zip\"\n",
    "zip_path = \"ModelNet40.zip\"\n",
    "extract_path = \"ModelNet40\"\n",
    "\n",
    "# Download with progress bar\n",
    "class DownloadProgressBar(tqdm):\n",
    "    def update_to(self, b=1, bsize=1, tsize=None):\n",
    "        if tsize is not None:\n",
    "            self.total = tsize\n",
    "        self.update(b * bsize - self.n)\n",
    "\n",
    "print(\"📥 Downloading ModelNet40.zip...\")\n",
    "with DownloadProgressBar(unit='B', unit_scale=True, miniters=1, desc=zip_path) as t:\n",
    "    urllib.request.urlretrieve(url, filename=zip_path, reporthook=t.update_to)\n",
    "\n",
    "# Extract with progress bar\n",
    "print(\"📦 Extracting ModelNet40.zip...\")\n",
    "with zipfile.ZipFile(zip_path, 'r') as zip_ref:\n",
    "    file_list = zip_ref.namelist()\n",
    "    for file in tqdm(file_list, desc=\"Extracting\", unit=\"files\"):\n",
    "        zip_ref.extract(file, extract_path)\n",
    "\n",
    "print(\"✅ Done! Files extracted to:\", extract_path)\n"
   ]
  },
  {
   "cell_type": "code",
   "execution_count": 29,
   "id": "b5c252db-e75b-4a01-92b3-b390319289a3",
   "metadata": {},
   "outputs": [
    {
     "data": {
      "text/plain": [
       "TriangleMesh with 2382 points and 2234 triangles."
      ]
     },
     "execution_count": 29,
     "metadata": {},
     "output_type": "execute_result"
    }
   ],
   "source": [
    "import open3d as o3d\n",
    "\n",
    "# Load a real object mesh (chair from ModelNet40)\n",
    "mesh = o3d.io.read_triangle_mesh(\"ModelNet40/ModelNet40/chair/train/chair_0001.off\")\n",
    "mesh.compute_vertex_normals()\n",
    "\n",
    "# Normalize: center & scale to unit size\n",
    "center = mesh.get_center()\n",
    "mesh.translate(-center)\n",
    "bbox = mesh.get_axis_aligned_bounding_box()\n",
    "scale = 1.0 / max(bbox.get_extent())\n",
    "mesh.scale(scale, center=(0, 0, 0))\n"
   ]
  },
  {
   "cell_type": "code",
   "execution_count": 41,
   "id": "307e0c8d-fd87-491d-991e-d43d8da0707a",
   "metadata": {},
   "outputs": [],
   "source": [
    "import numpy as np\n",
    "\n",
    "def fibonacci_sphere(samples=64, radius=1.8):\n",
    "    points = []\n",
    "    phi = np.pi * (3. - np.sqrt(5.))\n",
    "    for i in range(samples):\n",
    "        y = 1 - (i / float(samples - 1)) * 2\n",
    "        r = np.sqrt(1 - y * y)\n",
    "        theta = phi * i\n",
    "        x = np.cos(theta) * r\n",
    "        z = np.sin(theta) * r\n",
    "        points.append([x * radius, y * radius, z * radius])\n",
    "    return np.array(points)\n",
    "\n",
    "candidate_views = fibonacci_sphere(samples=32)\n"
   ]
  },
  {
   "cell_type": "code",
   "execution_count": 47,
   "id": "397409af-5bef-4db4-9b3e-e49469490c02",
   "metadata": {},
   "outputs": [],
   "source": [
    "import numpy as np\n",
    "\n",
    "def generate_normal_based_views(mesh, num_views=64, distance=0.3):\n",
    "    pcd = mesh.sample_points_uniformly(number_of_points=num_views)\n",
    "    pcd.estimate_normals()\n",
    "    points = np.asarray(pcd.points)\n",
    "    normals = np.asarray(pcd.normals)\n",
    "    candidate_views = points - normals * distance  # place cameras outside, looking in\n",
    "    return candidate_views\n",
    "\n",
    "candidate_views = generate_normal_based_views(mesh, num_views=64, distance=0.3)\n"
   ]
  },
  {
   "cell_type": "code",
   "execution_count": 48,
   "id": "bf911a92-c22c-4739-bf7a-6a4e1dcdd64c",
   "metadata": {},
   "outputs": [
    {
     "name": "stderr",
     "output_type": "stream",
     "text": [
      "Simulating visibility: 100%|██████████████████████████████████████████████████████████| 64/64 [00:00<00:00, 377.65it/s]\n"
     ]
    }
   ],
   "source": [
    "from tqdm import tqdm\n",
    "import open3d as o3d\n",
    "\n",
    "pcd = mesh.sample_points_uniformly(number_of_points=3000)\n",
    "view_coverage = []\n",
    "\n",
    "for view in tqdm(candidate_views, desc=\"Simulating visibility\"):\n",
    "    _, pt_map = pcd.hidden_point_removal(view, radius=0.5)  # use tight radius for close views\n",
    "    view_coverage.append(set(pt_map))\n",
    "\n",
    "total_points = set(range(len(pcd.points)))\n"
   ]
  },
  {
   "cell_type": "code",
   "execution_count": 49,
   "id": "f2a9a64b-abf2-4987-a1e3-abfa43e503c6",
   "metadata": {},
   "outputs": [
    {
     "name": "stderr",
     "output_type": "stream",
     "text": [
      "2025/07/14 09:01:44 PM, INFO, mealpy.bio_based.SMA.OriginalSMA: OriginalSMA(epoch=50, pop_size=20, p_t=0.03)\n",
      "2025/07/14 09:01:44 PM, INFO, mealpy.bio_based.SMA.OriginalSMA: >>>Problem: P, Epoch: 1, Current best: 531.0, Global best: 531.0, Runtime: 0.04591 seconds\n",
      "2025/07/14 09:01:44 PM, INFO, mealpy.bio_based.SMA.OriginalSMA: >>>Problem: P, Epoch: 2, Current best: 635.0, Global best: 531.0, Runtime: 0.03312 seconds\n",
      "2025/07/14 09:01:44 PM, INFO, mealpy.bio_based.SMA.OriginalSMA: >>>Problem: P, Epoch: 3, Current best: 598.0, Global best: 531.0, Runtime: 0.03571 seconds\n",
      "2025/07/14 09:01:44 PM, INFO, mealpy.bio_based.SMA.OriginalSMA: >>>Problem: P, Epoch: 4, Current best: 568.0, Global best: 531.0, Runtime: 0.03157 seconds\n",
      "2025/07/14 09:01:44 PM, INFO, mealpy.bio_based.SMA.OriginalSMA: >>>Problem: P, Epoch: 5, Current best: 584.0, Global best: 531.0, Runtime: 0.03845 seconds\n",
      "2025/07/14 09:01:44 PM, INFO, mealpy.bio_based.SMA.OriginalSMA: >>>Problem: P, Epoch: 6, Current best: 481.0, Global best: 481.0, Runtime: 0.03383 seconds\n",
      "2025/07/14 09:01:44 PM, INFO, mealpy.bio_based.SMA.OriginalSMA: >>>Problem: P, Epoch: 7, Current best: 554.0, Global best: 481.0, Runtime: 0.04282 seconds\n",
      "2025/07/14 09:01:44 PM, INFO, mealpy.bio_based.SMA.OriginalSMA: >>>Problem: P, Epoch: 8, Current best: 493.0, Global best: 481.0, Runtime: 0.04205 seconds\n",
      "2025/07/14 09:01:44 PM, INFO, mealpy.bio_based.SMA.OriginalSMA: >>>Problem: P, Epoch: 9, Current best: 556.0, Global best: 481.0, Runtime: 0.03692 seconds\n",
      "2025/07/14 09:01:44 PM, INFO, mealpy.bio_based.SMA.OriginalSMA: >>>Problem: P, Epoch: 10, Current best: 570.0, Global best: 481.0, Runtime: 0.03676 seconds\n",
      "2025/07/14 09:01:44 PM, INFO, mealpy.bio_based.SMA.OriginalSMA: >>>Problem: P, Epoch: 11, Current best: 555.0, Global best: 481.0, Runtime: 0.04403 seconds\n",
      "2025/07/14 09:01:44 PM, INFO, mealpy.bio_based.SMA.OriginalSMA: >>>Problem: P, Epoch: 12, Current best: 493.0, Global best: 481.0, Runtime: 0.03946 seconds\n",
      "2025/07/14 09:01:44 PM, INFO, mealpy.bio_based.SMA.OriginalSMA: >>>Problem: P, Epoch: 13, Current best: 534.0, Global best: 481.0, Runtime: 0.03872 seconds\n",
      "2025/07/14 09:01:44 PM, INFO, mealpy.bio_based.SMA.OriginalSMA: >>>Problem: P, Epoch: 14, Current best: 556.0, Global best: 481.0, Runtime: 0.03597 seconds\n",
      "2025/07/14 09:01:44 PM, INFO, mealpy.bio_based.SMA.OriginalSMA: >>>Problem: P, Epoch: 15, Current best: 521.0, Global best: 481.0, Runtime: 0.03270 seconds\n",
      "2025/07/14 09:01:44 PM, INFO, mealpy.bio_based.SMA.OriginalSMA: >>>Problem: P, Epoch: 16, Current best: 518.0, Global best: 481.0, Runtime: 0.03686 seconds\n",
      "2025/07/14 09:01:44 PM, INFO, mealpy.bio_based.SMA.OriginalSMA: >>>Problem: P, Epoch: 17, Current best: 478.0, Global best: 478.0, Runtime: 0.04106 seconds\n",
      "2025/07/14 09:01:44 PM, INFO, mealpy.bio_based.SMA.OriginalSMA: >>>Problem: P, Epoch: 18, Current best: 566.0, Global best: 478.0, Runtime: 0.04201 seconds\n",
      "2025/07/14 09:01:44 PM, INFO, mealpy.bio_based.SMA.OriginalSMA: >>>Problem: P, Epoch: 19, Current best: 535.0, Global best: 478.0, Runtime: 0.03556 seconds\n",
      "2025/07/14 09:01:44 PM, INFO, mealpy.bio_based.SMA.OriginalSMA: >>>Problem: P, Epoch: 20, Current best: 566.0, Global best: 478.0, Runtime: 0.04130 seconds\n",
      "2025/07/14 09:01:44 PM, INFO, mealpy.bio_based.SMA.OriginalSMA: >>>Problem: P, Epoch: 21, Current best: 521.0, Global best: 478.0, Runtime: 0.03282 seconds\n",
      "2025/07/14 09:01:44 PM, INFO, mealpy.bio_based.SMA.OriginalSMA: >>>Problem: P, Epoch: 22, Current best: 522.0, Global best: 478.0, Runtime: 0.03733 seconds\n",
      "2025/07/14 09:01:45 PM, INFO, mealpy.bio_based.SMA.OriginalSMA: >>>Problem: P, Epoch: 23, Current best: 516.0, Global best: 478.0, Runtime: 0.03335 seconds\n",
      "2025/07/14 09:01:45 PM, INFO, mealpy.bio_based.SMA.OriginalSMA: >>>Problem: P, Epoch: 24, Current best: 532.0, Global best: 478.0, Runtime: 0.03949 seconds\n",
      "2025/07/14 09:01:45 PM, INFO, mealpy.bio_based.SMA.OriginalSMA: >>>Problem: P, Epoch: 25, Current best: 488.0, Global best: 478.0, Runtime: 0.03863 seconds\n",
      "2025/07/14 09:01:45 PM, INFO, mealpy.bio_based.SMA.OriginalSMA: >>>Problem: P, Epoch: 26, Current best: 513.0, Global best: 478.0, Runtime: 0.03514 seconds\n",
      "2025/07/14 09:01:45 PM, INFO, mealpy.bio_based.SMA.OriginalSMA: >>>Problem: P, Epoch: 27, Current best: 507.0, Global best: 478.0, Runtime: 0.03496 seconds\n",
      "2025/07/14 09:01:45 PM, INFO, mealpy.bio_based.SMA.OriginalSMA: >>>Problem: P, Epoch: 28, Current best: 510.0, Global best: 478.0, Runtime: 0.03245 seconds\n",
      "2025/07/14 09:01:45 PM, INFO, mealpy.bio_based.SMA.OriginalSMA: >>>Problem: P, Epoch: 29, Current best: 482.0, Global best: 478.0, Runtime: 0.02889 seconds\n",
      "2025/07/14 09:01:45 PM, INFO, mealpy.bio_based.SMA.OriginalSMA: >>>Problem: P, Epoch: 30, Current best: 516.0, Global best: 478.0, Runtime: 0.04098 seconds\n",
      "2025/07/14 09:01:45 PM, INFO, mealpy.bio_based.SMA.OriginalSMA: >>>Problem: P, Epoch: 31, Current best: 486.0, Global best: 478.0, Runtime: 0.03541 seconds\n",
      "2025/07/14 09:01:45 PM, INFO, mealpy.bio_based.SMA.OriginalSMA: >>>Problem: P, Epoch: 32, Current best: 483.0, Global best: 478.0, Runtime: 0.03498 seconds\n",
      "2025/07/14 09:01:45 PM, INFO, mealpy.bio_based.SMA.OriginalSMA: >>>Problem: P, Epoch: 33, Current best: 531.0, Global best: 478.0, Runtime: 0.03286 seconds\n",
      "2025/07/14 09:01:45 PM, INFO, mealpy.bio_based.SMA.OriginalSMA: >>>Problem: P, Epoch: 34, Current best: 477.0, Global best: 477.0, Runtime: 0.03813 seconds\n",
      "2025/07/14 09:01:45 PM, INFO, mealpy.bio_based.SMA.OriginalSMA: >>>Problem: P, Epoch: 35, Current best: 508.0, Global best: 477.0, Runtime: 0.03578 seconds\n",
      "2025/07/14 09:01:45 PM, INFO, mealpy.bio_based.SMA.OriginalSMA: >>>Problem: P, Epoch: 36, Current best: 487.0, Global best: 477.0, Runtime: 0.03802 seconds\n",
      "2025/07/14 09:01:45 PM, INFO, mealpy.bio_based.SMA.OriginalSMA: >>>Problem: P, Epoch: 37, Current best: 486.0, Global best: 477.0, Runtime: 0.03909 seconds\n",
      "2025/07/14 09:01:45 PM, INFO, mealpy.bio_based.SMA.OriginalSMA: >>>Problem: P, Epoch: 38, Current best: 491.0, Global best: 477.0, Runtime: 0.04383 seconds\n",
      "2025/07/14 09:01:45 PM, INFO, mealpy.bio_based.SMA.OriginalSMA: >>>Problem: P, Epoch: 39, Current best: 470.0, Global best: 470.0, Runtime: 0.05249 seconds\n",
      "2025/07/14 09:01:45 PM, INFO, mealpy.bio_based.SMA.OriginalSMA: >>>Problem: P, Epoch: 40, Current best: 505.0, Global best: 470.0, Runtime: 0.03625 seconds\n",
      "2025/07/14 09:01:45 PM, INFO, mealpy.bio_based.SMA.OriginalSMA: >>>Problem: P, Epoch: 41, Current best: 480.0, Global best: 470.0, Runtime: 0.03376 seconds\n",
      "2025/07/14 09:01:45 PM, INFO, mealpy.bio_based.SMA.OriginalSMA: >>>Problem: P, Epoch: 42, Current best: 465.0, Global best: 465.0, Runtime: 0.03303 seconds\n",
      "2025/07/14 09:01:45 PM, INFO, mealpy.bio_based.SMA.OriginalSMA: >>>Problem: P, Epoch: 43, Current best: 465.0, Global best: 465.0, Runtime: 0.03650 seconds\n",
      "2025/07/14 09:01:45 PM, INFO, mealpy.bio_based.SMA.OriginalSMA: >>>Problem: P, Epoch: 44, Current best: 487.0, Global best: 465.0, Runtime: 0.03782 seconds\n",
      "2025/07/14 09:01:45 PM, INFO, mealpy.bio_based.SMA.OriginalSMA: >>>Problem: P, Epoch: 45, Current best: 455.0, Global best: 455.0, Runtime: 0.03504 seconds\n",
      "2025/07/14 09:01:45 PM, INFO, mealpy.bio_based.SMA.OriginalSMA: >>>Problem: P, Epoch: 46, Current best: 454.0, Global best: 454.0, Runtime: 0.03020 seconds\n",
      "2025/07/14 09:01:45 PM, INFO, mealpy.bio_based.SMA.OriginalSMA: >>>Problem: P, Epoch: 47, Current best: 452.0, Global best: 452.0, Runtime: 0.03680 seconds\n",
      "2025/07/14 09:01:45 PM, INFO, mealpy.bio_based.SMA.OriginalSMA: >>>Problem: P, Epoch: 48, Current best: 447.0, Global best: 447.0, Runtime: 0.04106 seconds\n",
      "2025/07/14 09:01:46 PM, INFO, mealpy.bio_based.SMA.OriginalSMA: >>>Problem: P, Epoch: 49, Current best: 446.0, Global best: 446.0, Runtime: 0.03412 seconds\n",
      "2025/07/14 09:01:46 PM, INFO, mealpy.bio_based.SMA.OriginalSMA: >>>Problem: P, Epoch: 50, Current best: 446.0, Global best: 446.0, Runtime: 0.03063 seconds\n"
     ]
    },
    {
     "name": "stdout",
     "output_type": "stream",
     "text": [
      "\n",
      "📌 Selected 28 viewpoints: [0, 1, 3, 5, 7, 9, 10, 14, 18, 22, 23, 27, 29, 31, 33, 34, 35, 36, 37, 38, 40, 44, 47, 53, 57, 59, 60, 63]\n",
      "✅ Coverage: 85.13%\n"
     ]
    }
   ],
   "source": [
    "from mealpy import FloatVar, SMA\n",
    "\n",
    "num_views_to_select = 30  # or try 20, 25, etc.\n",
    "\n",
    "def objective_function(solution):\n",
    "    indices = [int(round(x)) % len(view_coverage) for x in solution]\n",
    "    indices = list(set(indices))\n",
    "    covered = set()\n",
    "    for i in indices:\n",
    "        covered |= view_coverage[i]\n",
    "    uncovered = len(total_points - covered)\n",
    "    return uncovered\n",
    "\n",
    "problem_dict = {\n",
    "    \"obj_func\": objective_function,\n",
    "    \"minmax\": \"min\",\n",
    "    \"bounds\": FloatVar(\n",
    "        lb=(0,) * num_views_to_select,\n",
    "        ub=(len(view_coverage) - 1,) * num_views_to_select,\n",
    "        name=\"view_index\"\n",
    "    )\n",
    "}\n",
    "\n",
    "model = SMA.OriginalSMA(epoch=50, pop_size=20, p_t=0.03)\n",
    "g_best = model.solve(problem_dict)\n",
    "\n",
    "selected_indices = sorted(set(int(round(x)) % len(view_coverage) for x in g_best.solution))\n",
    "covered = set().union(*[view_coverage[i] for i in selected_indices])\n",
    "coverage_percent = len(covered) / len(total_points) * 100\n",
    "\n",
    "print(f\"\\n📌 Selected {len(selected_indices)} viewpoints: {selected_indices}\")\n",
    "print(f\"✅ Coverage: {coverage_percent:.2f}%\")\n"
   ]
  },
  {
   "cell_type": "code",
   "execution_count": null,
   "id": "97efb74f-8dc0-4c9f-a3f8-550a7d023180",
   "metadata": {},
   "outputs": [],
   "source": [
    "# Visualize mesh + red = selected, gray = others\n",
    "spheres = []\n",
    "for i, pos in enumerate(candidate_views):\n",
    "    sphere = o3d.geometry.TriangleMesh.create_sphere(radius=0.05)\n",
    "    sphere.translate(pos)\n",
    "    if i in selected_indices:\n",
    "        sphere.paint_uniform_color([1, 0, 0])  # red\n",
    "    else:\n",
    "        sphere.paint_uniform_color([0.7, 0.7, 0.7])  # gray\n",
    "    spheres.append(sphere)\n",
    "\n",
    "o3d.visualization.draw_geometries([mesh] + spheres)\n"
   ]
  },
  {
   "cell_type": "code",
   "execution_count": null,
   "id": "db45c467-1dae-4610-b677-666334248684",
   "metadata": {},
   "outputs": [],
   "source": []
  }
 ],
 "metadata": {
  "kernelspec": {
   "display_name": "Python 3 (ipykernel)",
   "language": "python",
   "name": "python3"
  },
  "language_info": {
   "codemirror_mode": {
    "name": "ipython",
    "version": 3
   },
   "file_extension": ".py",
   "mimetype": "text/x-python",
   "name": "python",
   "nbconvert_exporter": "python",
   "pygments_lexer": "ipython3",
   "version": "3.12.7"
  }
 },
 "nbformat": 4,
 "nbformat_minor": 5
}
